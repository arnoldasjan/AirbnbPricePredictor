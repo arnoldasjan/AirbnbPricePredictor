{
 "cells": [
  {
   "cell_type": "code",
   "execution_count": 1,
   "metadata": {
    "tags": []
   },
   "outputs": [],
   "source": [
    "import pandas as pd\n",
    "import numpy as np\n",
    "import seaborn as sns\n",
    "from sklearn.preprocessing import OneHotEncoder\n",
    "from sklearn.preprocessing import StandardScaler\n",
    "from sklearn.linear_model import LinearRegression\n",
    "from sklearn.model_selection import train_test_split\n",
    "from sklearn.metrics import mean_absolute_error\n",
    "import pickle\n",
    "sns.set_theme()"
   ]
  },
  {
   "cell_type": "code",
   "execution_count": 2,
   "metadata": {},
   "outputs": [],
   "source": [
    "data = pd.read_csv('../data/airbnb_data.csv')"
   ]
  },
  {
   "cell_type": "code",
   "execution_count": 3,
   "metadata": {},
   "outputs": [
    {
     "data": {
      "text/html": [
       "<div>\n",
       "<style scoped>\n",
       "    .dataframe tbody tr th:only-of-type {\n",
       "        vertical-align: middle;\n",
       "    }\n",
       "\n",
       "    .dataframe tbody tr th {\n",
       "        vertical-align: top;\n",
       "    }\n",
       "\n",
       "    .dataframe thead th {\n",
       "        text-align: right;\n",
       "    }\n",
       "</style>\n",
       "<table border=\"1\" class=\"dataframe\">\n",
       "  <thead>\n",
       "    <tr style=\"text-align: right;\">\n",
       "      <th></th>\n",
       "      <th>title</th>\n",
       "      <th>city</th>\n",
       "      <th>country</th>\n",
       "      <th>apartment_type</th>\n",
       "      <th>district</th>\n",
       "      <th>guests</th>\n",
       "      <th>bedrooms</th>\n",
       "      <th>beds</th>\n",
       "      <th>baths</th>\n",
       "      <th>amenities</th>\n",
       "      <th>price</th>\n",
       "      <th>rating</th>\n",
       "      <th>reviews</th>\n",
       "      <th>is_superhost</th>\n",
       "      <th>listing_url</th>\n",
       "      <th>image_url</th>\n",
       "    </tr>\n",
       "  </thead>\n",
       "  <tbody>\n",
       "    <tr>\n",
       "      <th>0</th>\n",
       "      <td>OLD TOWN spacy apartment</td>\n",
       "      <td>Vilnius</td>\n",
       "      <td>Lithuania</td>\n",
       "      <td>Entire apartment</td>\n",
       "      <td>Vilnius</td>\n",
       "      <td>4</td>\n",
       "      <td>1</td>\n",
       "      <td>2.0</td>\n",
       "      <td>1 bath</td>\n",
       "      <td>['Kitchen', 'Wifi', 'Free parking', 'Self chec...</td>\n",
       "      <td>78</td>\n",
       "      <td>4.97</td>\n",
       "      <td>112.0</td>\n",
       "      <td>True</td>\n",
       "      <td>https://www.airbnb.com/rooms/41527214?adults=1...</td>\n",
       "      <td>https://a0.muscache.com/im/pictures/7299dc7e-a...</td>\n",
       "    </tr>\n",
       "    <tr>\n",
       "      <th>1</th>\n",
       "      <td>HEART OF OLD TOWN - TRAKU STUDIO</td>\n",
       "      <td>Vilnius</td>\n",
       "      <td>Lithuania</td>\n",
       "      <td>Entire apartment</td>\n",
       "      <td>Vilnius</td>\n",
       "      <td>2</td>\n",
       "      <td>Studio</td>\n",
       "      <td>1.0</td>\n",
       "      <td>1 bath</td>\n",
       "      <td>['Kitchen', 'Wifi', 'Free parking', 'Self chec...</td>\n",
       "      <td>26</td>\n",
       "      <td>4.65</td>\n",
       "      <td>211.0</td>\n",
       "      <td>False</td>\n",
       "      <td>https://www.airbnb.com/rooms/12829595?adults=1...</td>\n",
       "      <td>https://a0.muscache.com/im/pictures/90555ad6-3...</td>\n",
       "    </tr>\n",
       "    <tr>\n",
       "      <th>2</th>\n",
       "      <td>Happy Inn Presidential, Self check-in, parking</td>\n",
       "      <td>Vilnius</td>\n",
       "      <td>Lithuania</td>\n",
       "      <td>Entire serviced apartment</td>\n",
       "      <td>Vilnius</td>\n",
       "      <td>4</td>\n",
       "      <td>1</td>\n",
       "      <td>2.0</td>\n",
       "      <td>1 bath</td>\n",
       "      <td>['Kitchen', 'Wifi', 'Self check-in']</td>\n",
       "      <td>59</td>\n",
       "      <td>4.95</td>\n",
       "      <td>22.0</td>\n",
       "      <td>True</td>\n",
       "      <td>https://www.airbnb.com/rooms/34949662?adults=1...</td>\n",
       "      <td>https://a0.muscache.com/im/pictures/f2c3b2a2-c...</td>\n",
       "    </tr>\n",
       "    <tr>\n",
       "      <th>3</th>\n",
       "      <td>LITTLE TOWER STUDIO apartment in Vilnius Old Town</td>\n",
       "      <td>Vilnius</td>\n",
       "      <td>Lithuania</td>\n",
       "      <td>Entire loft</td>\n",
       "      <td>Vilnius</td>\n",
       "      <td>3</td>\n",
       "      <td>Studio</td>\n",
       "      <td>1.0</td>\n",
       "      <td>1.5 baths</td>\n",
       "      <td>['Kitchen', 'Wifi', 'Free parking', 'Self chec...</td>\n",
       "      <td>57</td>\n",
       "      <td>4.98</td>\n",
       "      <td>53.0</td>\n",
       "      <td>True</td>\n",
       "      <td>https://www.airbnb.com/rooms/46920144?adults=1...</td>\n",
       "      <td>https://a0.muscache.com/im/pictures/4716f353-4...</td>\n",
       "    </tr>\n",
       "    <tr>\n",
       "      <th>4</th>\n",
       "      <td>Cozy and spacious apartment in old town</td>\n",
       "      <td>Vilnius</td>\n",
       "      <td>Lithuania</td>\n",
       "      <td>Entire apartment</td>\n",
       "      <td>Vilnius</td>\n",
       "      <td>6</td>\n",
       "      <td>1</td>\n",
       "      <td>3.0</td>\n",
       "      <td>1 bath</td>\n",
       "      <td>['Kitchen', 'Wifi', 'Free parking']</td>\n",
       "      <td>48</td>\n",
       "      <td>4.86</td>\n",
       "      <td>139.0</td>\n",
       "      <td>True</td>\n",
       "      <td>https://www.airbnb.com/rooms/18193024?adults=1...</td>\n",
       "      <td>https://a0.muscache.com/im/pictures/65973bd9-2...</td>\n",
       "    </tr>\n",
       "  </tbody>\n",
       "</table>\n",
       "</div>"
      ],
      "text/plain": [
       "                                               title     city    country  \\\n",
       "0                           OLD TOWN spacy apartment  Vilnius  Lithuania   \n",
       "1                   HEART OF OLD TOWN - TRAKU STUDIO  Vilnius  Lithuania   \n",
       "2     Happy Inn Presidential, Self check-in, parking  Vilnius  Lithuania   \n",
       "3  LITTLE TOWER STUDIO apartment in Vilnius Old Town  Vilnius  Lithuania   \n",
       "4            Cozy and spacious apartment in old town  Vilnius  Lithuania   \n",
       "\n",
       "              apartment_type district  guests bedrooms  beds      baths  \\\n",
       "0           Entire apartment  Vilnius       4        1   2.0     1 bath   \n",
       "1           Entire apartment  Vilnius       2   Studio   1.0     1 bath   \n",
       "2  Entire serviced apartment  Vilnius       4        1   2.0     1 bath   \n",
       "3                Entire loft  Vilnius       3   Studio   1.0  1.5 baths   \n",
       "4           Entire apartment  Vilnius       6        1   3.0     1 bath   \n",
       "\n",
       "                                           amenities  price  rating  reviews  \\\n",
       "0  ['Kitchen', 'Wifi', 'Free parking', 'Self chec...     78    4.97    112.0   \n",
       "1  ['Kitchen', 'Wifi', 'Free parking', 'Self chec...     26    4.65    211.0   \n",
       "2               ['Kitchen', 'Wifi', 'Self check-in']     59    4.95     22.0   \n",
       "3  ['Kitchen', 'Wifi', 'Free parking', 'Self chec...     57    4.98     53.0   \n",
       "4                ['Kitchen', 'Wifi', 'Free parking']     48    4.86    139.0   \n",
       "\n",
       "   is_superhost                                        listing_url  \\\n",
       "0          True  https://www.airbnb.com/rooms/41527214?adults=1...   \n",
       "1         False  https://www.airbnb.com/rooms/12829595?adults=1...   \n",
       "2          True  https://www.airbnb.com/rooms/34949662?adults=1...   \n",
       "3          True  https://www.airbnb.com/rooms/46920144?adults=1...   \n",
       "4          True  https://www.airbnb.com/rooms/18193024?adults=1...   \n",
       "\n",
       "                                           image_url  \n",
       "0  https://a0.muscache.com/im/pictures/7299dc7e-a...  \n",
       "1  https://a0.muscache.com/im/pictures/90555ad6-3...  \n",
       "2  https://a0.muscache.com/im/pictures/f2c3b2a2-c...  \n",
       "3  https://a0.muscache.com/im/pictures/4716f353-4...  \n",
       "4  https://a0.muscache.com/im/pictures/65973bd9-2...  "
      ]
     },
     "execution_count": 3,
     "metadata": {},
     "output_type": "execute_result"
    }
   ],
   "source": [
    "data.head()"
   ]
  },
  {
   "cell_type": "code",
   "execution_count": 4,
   "metadata": {},
   "outputs": [
    {
     "name": "stdout",
     "output_type": "stream",
     "text": [
      "<class 'pandas.core.frame.DataFrame'>\n",
      "RangeIndex: 1800 entries, 0 to 1799\n",
      "Data columns (total 16 columns):\n",
      " #   Column          Non-Null Count  Dtype  \n",
      "---  ------          --------------  -----  \n",
      " 0   title           1800 non-null   object \n",
      " 1   city            1800 non-null   object \n",
      " 2   country         1800 non-null   object \n",
      " 3   apartment_type  1800 non-null   object \n",
      " 4   district        1800 non-null   object \n",
      " 5   guests          1800 non-null   int64  \n",
      " 6   bedrooms        1800 non-null   object \n",
      " 7   beds            1800 non-null   float64\n",
      " 8   baths           1784 non-null   object \n",
      " 9   amenities       1800 non-null   object \n",
      " 10  price           1800 non-null   int64  \n",
      " 11  rating          1578 non-null   float64\n",
      " 12  reviews         1578 non-null   float64\n",
      " 13  is_superhost    1800 non-null   bool   \n",
      " 14  listing_url     1800 non-null   object \n",
      " 15  image_url       1800 non-null   object \n",
      "dtypes: bool(1), float64(3), int64(2), object(10)\n",
      "memory usage: 212.8+ KB\n"
     ]
    }
   ],
   "source": [
    "data.info()"
   ]
  },
  {
   "cell_type": "code",
   "execution_count": 5,
   "metadata": {},
   "outputs": [
    {
     "data": {
      "text/plain": [
       "array(['Entire apartment', 'Entire serviced apartment', 'Entire loft',\n",
       "       'Tiny house', 'Entire cabin', 'Room', 'Cave', 'Entire condominium',\n",
       "       'Entire guest suite', 'Entire chalet', 'Entire villa',\n",
       "       'Private room', 'Hotel room', 'Entire guesthouse', 'Entire house',\n",
       "       'Farm stay', 'Shared room', 'Camper/RV', 'Hostel room',\n",
       "       'Entire bungalow', 'Treehouse', 'Hut', 'Resort room',\n",
       "       'Hostel beds', 'Boat', 'Entire cottage'], dtype=object)"
      ]
     },
     "execution_count": 5,
     "metadata": {},
     "output_type": "execute_result"
    }
   ],
   "source": [
    "data['apartment_type'].unique()"
   ]
  },
  {
   "cell_type": "code",
   "execution_count": 6,
   "metadata": {},
   "outputs": [],
   "source": [
    "data['bedrooms'] = data['bedrooms'].replace({'Studio': 1})"
   ]
  },
  {
   "cell_type": "code",
   "execution_count": 7,
   "metadata": {},
   "outputs": [],
   "source": [
    "data['bedrooms'] = data['bedrooms'].astype(int)"
   ]
  },
  {
   "cell_type": "code",
   "execution_count": 8,
   "metadata": {},
   "outputs": [
    {
     "data": {
      "text/plain": [
       "array(['1 bath', '1.5 baths', '2 baths', '1 private bath', nan,\n",
       "       '1 shared bath', '3 baths', '3 shared baths', '1.5 shared baths',\n",
       "       '0 baths', '2.5 baths', '4 shared baths', '3.5 baths', '4 baths',\n",
       "       '6 baths', '5 baths', '6.5 baths', '4.5 baths', '5.5 baths',\n",
       "       '10.5 baths', '10 baths', '2 shared baths', 'Half-bath',\n",
       "       '2.5 shared baths', '0 shared baths', 'Shared half-bath',\n",
       "       '5 shared baths'], dtype=object)"
      ]
     },
     "execution_count": 8,
     "metadata": {},
     "output_type": "execute_result"
    }
   ],
   "source": [
    "data['baths'].unique()"
   ]
  },
  {
   "cell_type": "code",
   "execution_count": 9,
   "metadata": {},
   "outputs": [
    {
     "data": {
      "text/plain": [
       "array(['Kitchen', 'Wifi', 'Free parking', 'Self check-in', 'Heating',\n",
       "       'Hosted by a business', 'Pool', 'Air conditioning', 'Washer'],\n",
       "      dtype=object)"
      ]
     },
     "execution_count": 9,
     "metadata": {},
     "output_type": "execute_result"
    }
   ],
   "source": [
    "from ast import literal_eval\n",
    "\n",
    "exploded_amenities = data['amenities'].apply(literal_eval) #convert to list type\n",
    "exploded_amenities.explode().unique()"
   ]
  },
  {
   "cell_type": "code",
   "execution_count": 10,
   "metadata": {},
   "outputs": [],
   "source": [
    "# import urllib.request\n",
    "\n",
    "# for url in data['image_url']:\n",
    "#     save_name = url.split('?')[0]\n",
    "#     save_name = 'images/' + save_name.split('/')[-1]\n",
    "#     urllib.request.urlretrieve(url, save_name)"
   ]
  },
  {
   "cell_type": "code",
   "execution_count": 11,
   "metadata": {},
   "outputs": [],
   "source": [
    "CATEGORICAL_FEATURES = ['city', 'country', 'apartment_type', 'baths', 'amenities', 'is_superhost']"
   ]
  },
  {
   "cell_type": "code",
   "execution_count": 12,
   "metadata": {},
   "outputs": [],
   "source": [
    "data = data.drop_duplicates(subset='image_url')"
   ]
  },
  {
   "cell_type": "code",
   "execution_count": 13,
   "metadata": {},
   "outputs": [
    {
     "name": "stdout",
     "output_type": "stream",
     "text": [
      "<class 'pandas.core.frame.DataFrame'>\n",
      "Int64Index: 1786 entries, 0 to 1799\n",
      "Data columns (total 16 columns):\n",
      " #   Column          Non-Null Count  Dtype  \n",
      "---  ------          --------------  -----  \n",
      " 0   title           1786 non-null   object \n",
      " 1   city            1786 non-null   object \n",
      " 2   country         1786 non-null   object \n",
      " 3   apartment_type  1786 non-null   object \n",
      " 4   district        1786 non-null   object \n",
      " 5   guests          1786 non-null   int64  \n",
      " 6   bedrooms        1786 non-null   int64  \n",
      " 7   beds            1786 non-null   float64\n",
      " 8   baths           1770 non-null   object \n",
      " 9   amenities       1786 non-null   object \n",
      " 10  price           1786 non-null   int64  \n",
      " 11  rating          1568 non-null   float64\n",
      " 12  reviews         1568 non-null   float64\n",
      " 13  is_superhost    1786 non-null   bool   \n",
      " 14  listing_url     1786 non-null   object \n",
      " 15  image_url       1786 non-null   object \n",
      "dtypes: bool(1), float64(3), int64(3), object(9)\n",
      "memory usage: 225.0+ KB\n"
     ]
    }
   ],
   "source": [
    "data.info()"
   ]
  },
  {
   "cell_type": "code",
   "execution_count": 14,
   "metadata": {},
   "outputs": [
    {
     "data": {
      "image/png": "[encoded data removed]",
      "text/plain": [
       "<Figure size 720x288 with 2 Axes>"
      ]
     },
     "metadata": {},
     "output_type": "display_data"
    }
   ],
   "source": [
    "data[['guests', 'beds']].hist(figsize=(10,4));"
   ]
  },
  {
   "cell_type": "code",
   "execution_count": 15,
   "metadata": {},
   "outputs": [
    {
     "data": {
      "image/png": "[encoded data removed]",
      "text/plain": [
       "<Figure size 864x432 with 4 Axes>"
      ]
     },
     "metadata": {},
     "output_type": "display_data"
    }
   ],
   "source": [
    "data[['price', 'rating', 'reviews']].hist(figsize=(12,6), bins=20);"
   ]
  },
  {
   "cell_type": "code",
   "execution_count": 16,
   "metadata": {},
   "outputs": [],
   "source": [
    "features = data.drop(['price', 'listing_url', 'image_url', 'title', 'district'], axis=1)\n",
    "target = data['price']"
   ]
  },
  {
   "cell_type": "code",
   "execution_count": 17,
   "metadata": {},
   "outputs": [
    {
     "data": {
      "text/html": [
       "<div>\n",
       "<style scoped>\n",
       "    .dataframe tbody tr th:only-of-type {\n",
       "        vertical-align: middle;\n",
       "    }\n",
       "\n",
       "    .dataframe tbody tr th {\n",
       "        vertical-align: top;\n",
       "    }\n",
       "\n",
       "    .dataframe thead th {\n",
       "        text-align: right;\n",
       "    }\n",
       "</style>\n",
       "<table border=\"1\" class=\"dataframe\">\n",
       "  <thead>\n",
       "    <tr style=\"text-align: right;\">\n",
       "      <th></th>\n",
       "      <th>city</th>\n",
       "      <th>country</th>\n",
       "      <th>apartment_type</th>\n",
       "      <th>guests</th>\n",
       "      <th>bedrooms</th>\n",
       "      <th>beds</th>\n",
       "      <th>baths</th>\n",
       "      <th>amenities</th>\n",
       "      <th>rating</th>\n",
       "      <th>reviews</th>\n",
       "      <th>is_superhost</th>\n",
       "    </tr>\n",
       "  </thead>\n",
       "  <tbody>\n",
       "    <tr>\n",
       "      <th>0</th>\n",
       "      <td>Vilnius</td>\n",
       "      <td>Lithuania</td>\n",
       "      <td>Entire apartment</td>\n",
       "      <td>4</td>\n",
       "      <td>1</td>\n",
       "      <td>2.0</td>\n",
       "      <td>1 bath</td>\n",
       "      <td>['Kitchen', 'Wifi', 'Free parking', 'Self chec...</td>\n",
       "      <td>4.97</td>\n",
       "      <td>112.0</td>\n",
       "      <td>True</td>\n",
       "    </tr>\n",
       "    <tr>\n",
       "      <th>1</th>\n",
       "      <td>Vilnius</td>\n",
       "      <td>Lithuania</td>\n",
       "      <td>Entire apartment</td>\n",
       "      <td>2</td>\n",
       "      <td>1</td>\n",
       "      <td>1.0</td>\n",
       "      <td>1 bath</td>\n",
       "      <td>['Kitchen', 'Wifi', 'Free parking', 'Self chec...</td>\n",
       "      <td>4.65</td>\n",
       "      <td>211.0</td>\n",
       "      <td>False</td>\n",
       "    </tr>\n",
       "    <tr>\n",
       "      <th>2</th>\n",
       "      <td>Vilnius</td>\n",
       "      <td>Lithuania</td>\n",
       "      <td>Entire serviced apartment</td>\n",
       "      <td>4</td>\n",
       "      <td>1</td>\n",
       "      <td>2.0</td>\n",
       "      <td>1 bath</td>\n",
       "      <td>['Kitchen', 'Wifi', 'Self check-in']</td>\n",
       "      <td>4.95</td>\n",
       "      <td>22.0</td>\n",
       "      <td>True</td>\n",
       "    </tr>\n",
       "    <tr>\n",
       "      <th>3</th>\n",
       "      <td>Vilnius</td>\n",
       "      <td>Lithuania</td>\n",
       "      <td>Entire loft</td>\n",
       "      <td>3</td>\n",
       "      <td>1</td>\n",
       "      <td>1.0</td>\n",
       "      <td>1.5 baths</td>\n",
       "      <td>['Kitchen', 'Wifi', 'Free parking', 'Self chec...</td>\n",
       "      <td>4.98</td>\n",
       "      <td>53.0</td>\n",
       "      <td>True</td>\n",
       "    </tr>\n",
       "    <tr>\n",
       "      <th>4</th>\n",
       "      <td>Vilnius</td>\n",
       "      <td>Lithuania</td>\n",
       "      <td>Entire apartment</td>\n",
       "      <td>6</td>\n",
       "      <td>1</td>\n",
       "      <td>3.0</td>\n",
       "      <td>1 bath</td>\n",
       "      <td>['Kitchen', 'Wifi', 'Free parking']</td>\n",
       "      <td>4.86</td>\n",
       "      <td>139.0</td>\n",
       "      <td>True</td>\n",
       "    </tr>\n",
       "    <tr>\n",
       "      <th>...</th>\n",
       "      <td>...</td>\n",
       "      <td>...</td>\n",
       "      <td>...</td>\n",
       "      <td>...</td>\n",
       "      <td>...</td>\n",
       "      <td>...</td>\n",
       "      <td>...</td>\n",
       "      <td>...</td>\n",
       "      <td>...</td>\n",
       "      <td>...</td>\n",
       "      <td>...</td>\n",
       "    </tr>\n",
       "    <tr>\n",
       "      <th>1795</th>\n",
       "      <td>Moscow</td>\n",
       "      <td>Russia</td>\n",
       "      <td>Entire apartment</td>\n",
       "      <td>6</td>\n",
       "      <td>2</td>\n",
       "      <td>2.0</td>\n",
       "      <td>1 bath</td>\n",
       "      <td>['Wifi', 'Kitchen']</td>\n",
       "      <td>NaN</td>\n",
       "      <td>NaN</td>\n",
       "      <td>True</td>\n",
       "    </tr>\n",
       "    <tr>\n",
       "      <th>1796</th>\n",
       "      <td>Moscow</td>\n",
       "      <td>Russia</td>\n",
       "      <td>Entire apartment</td>\n",
       "      <td>4</td>\n",
       "      <td>1</td>\n",
       "      <td>1.0</td>\n",
       "      <td>1 bath</td>\n",
       "      <td>['Wifi', 'Kitchen', 'Washer']</td>\n",
       "      <td>4.82</td>\n",
       "      <td>12.0</td>\n",
       "      <td>False</td>\n",
       "    </tr>\n",
       "    <tr>\n",
       "      <th>1797</th>\n",
       "      <td>Moscow</td>\n",
       "      <td>Russia</td>\n",
       "      <td>Hotel room</td>\n",
       "      <td>3</td>\n",
       "      <td>1</td>\n",
       "      <td>1.0</td>\n",
       "      <td>1 shared bath</td>\n",
       "      <td>['Wifi', 'Washer', 'Self check-in']</td>\n",
       "      <td>4.58</td>\n",
       "      <td>12.0</td>\n",
       "      <td>False</td>\n",
       "    </tr>\n",
       "    <tr>\n",
       "      <th>1798</th>\n",
       "      <td>Moscow</td>\n",
       "      <td>Russia</td>\n",
       "      <td>Entire apartment</td>\n",
       "      <td>6</td>\n",
       "      <td>2</td>\n",
       "      <td>3.0</td>\n",
       "      <td>1.5 baths</td>\n",
       "      <td>['Wifi', 'Kitchen', 'Washer', 'Self check-in']</td>\n",
       "      <td>5.00</td>\n",
       "      <td>14.0</td>\n",
       "      <td>True</td>\n",
       "    </tr>\n",
       "    <tr>\n",
       "      <th>1799</th>\n",
       "      <td>Moscow</td>\n",
       "      <td>Russia</td>\n",
       "      <td>Entire apartment</td>\n",
       "      <td>4</td>\n",
       "      <td>1</td>\n",
       "      <td>2.0</td>\n",
       "      <td>1 bath</td>\n",
       "      <td>['Wifi', 'Kitchen', 'Washer', 'Self check-in']</td>\n",
       "      <td>5.00</td>\n",
       "      <td>10.0</td>\n",
       "      <td>True</td>\n",
       "    </tr>\n",
       "  </tbody>\n",
       "</table>\n",
       "<p>1786 rows × 11 columns</p>\n",
       "</div>"
      ],
      "text/plain": [
       "         city    country             apartment_type  guests  bedrooms  beds  \\\n",
       "0     Vilnius  Lithuania           Entire apartment       4         1   2.0   \n",
       "1     Vilnius  Lithuania           Entire apartment       2         1   1.0   \n",
       "2     Vilnius  Lithuania  Entire serviced apartment       4         1   2.0   \n",
       "3     Vilnius  Lithuania                Entire loft       3         1   1.0   \n",
       "4     Vilnius  Lithuania           Entire apartment       6         1   3.0   \n",
       "...       ...        ...                        ...     ...       ...   ...   \n",
       "1795   Moscow     Russia           Entire apartment       6         2   2.0   \n",
       "1796   Moscow     Russia           Entire apartment       4         1   1.0   \n",
       "1797   Moscow     Russia                 Hotel room       3         1   1.0   \n",
       "1798   Moscow     Russia           Entire apartment       6         2   3.0   \n",
       "1799   Moscow     Russia           Entire apartment       4         1   2.0   \n",
       "\n",
       "              baths                                          amenities  \\\n",
       "0            1 bath  ['Kitchen', 'Wifi', 'Free parking', 'Self chec...   \n",
       "1            1 bath  ['Kitchen', 'Wifi', 'Free parking', 'Self chec...   \n",
       "2            1 bath               ['Kitchen', 'Wifi', 'Self check-in']   \n",
       "3         1.5 baths  ['Kitchen', 'Wifi', 'Free parking', 'Self chec...   \n",
       "4            1 bath                ['Kitchen', 'Wifi', 'Free parking']   \n",
       "...             ...                                                ...   \n",
       "1795         1 bath                                ['Wifi', 'Kitchen']   \n",
       "1796         1 bath                      ['Wifi', 'Kitchen', 'Washer']   \n",
       "1797  1 shared bath                ['Wifi', 'Washer', 'Self check-in']   \n",
       "1798      1.5 baths     ['Wifi', 'Kitchen', 'Washer', 'Self check-in']   \n",
       "1799         1 bath     ['Wifi', 'Kitchen', 'Washer', 'Self check-in']   \n",
       "\n",
       "      rating  reviews  is_superhost  \n",
       "0       4.97    112.0          True  \n",
       "1       4.65    211.0         False  \n",
       "2       4.95     22.0          True  \n",
       "3       4.98     53.0          True  \n",
       "4       4.86    139.0          True  \n",
       "...      ...      ...           ...  \n",
       "1795     NaN      NaN          True  \n",
       "1796    4.82     12.0         False  \n",
       "1797    4.58     12.0         False  \n",
       "1798    5.00     14.0          True  \n",
       "1799    5.00     10.0          True  \n",
       "\n",
       "[1786 rows x 11 columns]"
      ]
     },
     "execution_count": 17,
     "metadata": {},
     "output_type": "execute_result"
    }
   ],
   "source": [
    "features"
   ]
  },
  {
   "cell_type": "code",
   "execution_count": 18,
   "metadata": {},
   "outputs": [],
   "source": [
    "features['rating'].fillna(features['rating'].mean(), inplace=True)\n",
    "features['reviews'].fillna(1, inplace=True)\n",
    "features['baths'].fillna('1 bath', inplace=True)"
   ]
  },
  {
   "cell_type": "code",
   "execution_count": 19,
   "metadata": {},
   "outputs": [],
   "source": [
    "onehotencoder = OneHotEncoder(handle_unknown=\"ignore\")\n",
    "categorical_encoded_data = onehotencoder.fit_transform(features[CATEGORICAL_FEATURES].values).toarray()"
   ]
  },
  {
   "cell_type": "code",
   "execution_count": 20,
   "metadata": {},
   "outputs": [],
   "source": [
    "scaler = StandardScaler()\n",
    "scaled_numerical_data = scaler.fit_transform(features.drop(CATEGORICAL_FEATURES, axis=1))"
   ]
  },
  {
   "cell_type": "code",
   "execution_count": 21,
   "metadata": {},
   "outputs": [],
   "source": [
    "processed_data = np.concatenate((categorical_encoded_data, scaled_numerical_data), axis=1)"
   ]
  },
  {
   "cell_type": "code",
   "execution_count": 22,
   "metadata": {},
   "outputs": [],
   "source": [
    "X_train, X_test, y_train, y_test = train_test_split(processed_data, target, test_size=0.3)"
   ]
  },
  {
   "cell_type": "code",
   "execution_count": 23,
   "metadata": {},
   "outputs": [],
   "source": [
    "reg = LinearRegression(fit_intercept=False)"
   ]
  },
  {
   "cell_type": "code",
   "execution_count": 24,
   "metadata": {},
   "outputs": [],
   "source": [
    "from sklearn.linear_model import Lasso\n",
    "reg = Lasso()"
   ]
  },
  {
   "cell_type": "code",
   "execution_count": 25,
   "metadata": {},
   "outputs": [
    {
     "data": {
      "text/plain": [
       "Lasso()"
      ]
     },
     "execution_count": 25,
     "metadata": {},
     "output_type": "execute_result"
    }
   ],
   "source": [
    "reg.fit(X_train, y_train)"
   ]
  },
  {
   "cell_type": "code",
   "execution_count": 26,
   "metadata": {},
   "outputs": [
    {
     "data": {
      "text/plain": [
       "0.4012751724508702"
      ]
     },
     "execution_count": 26,
     "metadata": {},
     "output_type": "execute_result"
    }
   ],
   "source": [
    "reg.score(X_test, y_test)"
   ]
  },
  {
   "cell_type": "code",
   "execution_count": 27,
   "metadata": {},
   "outputs": [],
   "source": [
    "pred = reg.predict(X_test)"
   ]
  },
  {
   "cell_type": "code",
   "execution_count": 28,
   "metadata": {},
   "outputs": [
    {
     "data": {
      "text/plain": [
       "24.599664509191516"
      ]
     },
     "execution_count": 28,
     "metadata": {},
     "output_type": "execute_result"
    }
   ],
   "source": [
    "mean_absolute_error(y_test, pred)"
   ]
  },
  {
   "cell_type": "code",
   "execution_count": 29,
   "metadata": {},
   "outputs": [],
   "source": [
    "# with open(\"regression.pkl\", \"wb\") as reg_file:\n",
    "#     pickle.dump(reg, reg_file)\n",
    "\n",
    "# with open(\"scaler.pkl\", \"wb\") as scaler_file:\n",
    "#     pickle.dump(scaler, scaler_file)\n",
    "\n",
    "# with open(\"encoder.pkl\", \"wb\") as encoder_file:\n",
    "#     pickle.dump(onehotencoder, encoder_file)"
   ]
  }
 ],
 "metadata": {
  "kernelspec": {
   "display_name": "Python 3",
   "language": "python",
   "name": "python3"
  },
  "language_info": {
   "codemirror_mode": {
    "name": "ipython",
    "version": 3
   },
   "file_extension": ".py",
   "mimetype": "text/x-python",
   "name": "python",
   "nbconvert_exporter": "python",
   "pygments_lexer": "ipython3",
   "version": "3.9.4"
  }
 },
 "nbformat": 4,
 "nbformat_minor": 4
}
